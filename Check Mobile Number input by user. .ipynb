{
 "cells": [
  {
   "cell_type": "code",
   "execution_count": 5,
   "id": "23e94104",
   "metadata": {},
   "outputs": [
    {
     "name": "stdout",
     "output_type": "stream",
     "text": [
      "Enter your Mobile Number.9548340964\n",
      "Congratulation, your Mobile number is successfully done.\n"
     ]
    }
   ],
   "source": [
    "mobile = input(\"Enter your Mobile Number.\")\n",
    "\n",
    "a = mobile.isdigit()\n",
    "\n",
    "length_of_mobile = len(mobile)\n",
    "\n",
    "if a == True:\n",
    "    if (length_of_mobile == 10):\n",
    "        print(\"Congratulation, your Mobile number is successfully done.\")\n",
    "    else:\n",
    "        print(\"Enter correct mobile no.\")\n",
    "else:\n",
    "    print(\"Please Enter numerical digit.\")"
   ]
  }
 ],
 "metadata": {
  "kernelspec": {
   "display_name": "Python 3 (ipykernel)",
   "language": "python",
   "name": "python3"
  },
  "language_info": {
   "codemirror_mode": {
    "name": "ipython",
    "version": 3
   },
   "file_extension": ".py",
   "mimetype": "text/x-python",
   "name": "python",
   "nbconvert_exporter": "python",
   "pygments_lexer": "ipython3",
   "version": "3.9.12"
  }
 },
 "nbformat": 4,
 "nbformat_minor": 5
}
